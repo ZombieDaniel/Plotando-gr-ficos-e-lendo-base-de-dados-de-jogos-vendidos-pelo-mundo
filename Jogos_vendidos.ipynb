{
  "nbformat": 4,
  "nbformat_minor": 0,
  "metadata": {
    "colab": {
      "provenance": [],
      "collapsed_sections": []
    },
    "kernelspec": {
      "name": "python3",
      "display_name": "Python 3"
    },
    "language_info": {
      "name": "python"
    }
  },
  "cells": [
    {
      "cell_type": "code",
      "execution_count": null,
      "metadata": {
        "id": "NSMLlGkUlACs"
      },
      "outputs": [],
      "source": [
        "import matplotlib.pyplot as plt\n",
        "import pandas as pd\n",
        "import seaborn as sns"
      ]
    },
    {
      "cell_type": "code",
      "source": [
        "df = pd.read_csv(\"bd/vgsales.csv\") #importando dataframe"
      ],
      "metadata": {
        "id": "I9oMNIHvlGGx"
      },
      "execution_count": 4,
      "outputs": []
    },
    {
      "cell_type": "code",
      "source": [
        "%load_ext google.colab.data_table"
      ],
      "metadata": {
        "id": "6Ozyw-JilGjN"
      },
      "execution_count": 12,
      "outputs": []
    },
    {
      "cell_type": "code",
      "source": [
        "df"
      ],
      "metadata": {
        "id": "AiNd5SRkmJuc"
      },
      "execution_count": null,
      "outputs": []
    },
    {
      "cell_type": "code",
      "source": [
        "#Plataformas de jogos\n",
        "palette_platform = sns.light_palette(\"blue\", 15, reverse = True) #define a intensidade de paleta de cores para as barras do gráfico\n",
        "palette_platform_cubehelix = sns.cubehelix_palette(15, start = 3, rot = 0, reverse = True)\n",
        "fig = plt.figure(figsize=(15,5)) #função da matplotlbib que altera o tamanho do gráfico\n",
        "order_platform = df['Platform'].value_counts().index\n",
        "\n",
        "sns.countplot(x = 'Platform', order = order_platform, palette = palette_platform_cubehelix, data = df) #gráfico em barras, plota o somatório de x em y e ordena de forma descendente pela quantidade de aparições (y)\n",
        "\n",
        "plt.xlim(-0.5, 9.5) #define o número de variáveis em x \n",
        "\n",
        "plt.xlabel(' ')\n",
        "plt.ylabel(\"Quantidade vendida\", fontsize = 17)\n",
        "\n",
        "plt.title(\"10 PLATAFORMAS DE JOGOS MAIS VENDIDAS\", fontsize = 21)\n",
        "\n",
        "plt.xticks(fontsize = 15)\n",
        "plt.yticks(fontsize = 15)"
      ],
      "metadata": {
        "id": "DJQAZ1MqmaXR"
      },
      "execution_count": null,
      "outputs": []
    },
    {
      "cell_type": "code",
      "source": [
        "#Gêneros de jogos\n",
        "palette_genre_cubehelix = sns.cubehelix_palette(15, reverse = True)\n",
        "fig = plt.figure(figsize=(15,5))\n",
        "order_genre = df['Genre'].value_counts().index\n",
        "sns.countplot(x = \"Genre\", order = order_genre, palette = palette_genre_cubehelix, data = df)\n",
        "\n",
        "plt.xlim(-0.5, 9.5)\n",
        "\n",
        "plt.xticks(fontsize = 15)\n",
        "plt.yticks(fontsize = 15)\n",
        "\n",
        "plt.xlabel(\"\")\n",
        "plt.ylabel(\"Gêneros\", fontsize = 17)\n",
        "\n",
        "plt.title(\"10 GÊNEROS DE JOGOS MAIS VENDIDOS\", fontsize = 21)"
      ],
      "metadata": {
        "id": "Nc1KjiUTnYmi"
      },
      "execution_count": null,
      "outputs": []
    },
    {
      "cell_type": "code",
      "source": [
        "#Empresas de jogos\n",
        "palette_pub_cubehelix = sns.cubehelix_palette(15, start=5, rot=0, reverse=True)\n",
        "fig = plt.figure(figsize=(15,9))\n",
        "\n",
        "order_publi = df['Publisher'].value_counts().sort_values(ascending = False).iloc[0:10]\n",
        "sns.barplot(order_publi.values, order_publi.index, palette=palette_pub_cubehelix,data=df)\n",
        "\n",
        "plt.xticks(fontsize=20,rotation=13)\n",
        "plt.yticks(fontsize=20)\n",
        "\n",
        "\n",
        "plt.title('10 EMPRESAS COM A MAIOR QUANTIDADE DE VENDAS',fontsize=25)"
      ],
      "metadata": {
        "id": "hwVxjADZwtSh"
      },
      "execution_count": null,
      "outputs": []
    }
  ]
}